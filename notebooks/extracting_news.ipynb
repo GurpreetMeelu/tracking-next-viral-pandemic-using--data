{
 "cells": [
  {
   "cell_type": "markdown",
   "id": "136a316b",
   "metadata": {},
   "source": [
    "# Using NewsApi to download news"
   ]
  },
  {
   "cell_type": "code",
   "execution_count": 42,
   "id": "e2bdbe11",
   "metadata": {},
   "outputs": [],
   "source": [
    "API_KEY = 'API_KEY'\n",
    "from newsapi import NewsApiClient\n",
    "\n",
    "\n",
    "api = NewsApiClient(api_key = API_KEY)\n",
    "news = api.get_top_headlines(q= 'health', category = 'health')"
   ]
  },
  {
   "cell_type": "code",
   "execution_count": 43,
   "id": "8bd02d9a",
   "metadata": {},
   "outputs": [],
   "source": [
    "articles = []\n",
    "\n",
    "for i in range(len(news['articles'])):\n",
    "    articles.append(news['articles'][i]['title'].split('|')[0].split('-')[0])"
   ]
  },
  {
   "cell_type": "code",
   "execution_count": 44,
   "id": "ce046945",
   "metadata": {},
   "outputs": [
    {
     "data": {
      "text/plain": [
       "['Research reveals that carbs, sugary diets may cause poor oral health ',\n",
       " 'Expresso Health Updates Of The Week ',\n",
       " 'Why Intermittent Fasting Works & How To Do It ',\n",
       " 'Lower Triglycerides, Lower CVD Risk? Early Ablation for Atrial Fibrillation ',\n",
       " 'What are the health benefits of collagen? ',\n",
       " 'COVID depression is real. Here’s what you need to know ',\n",
       " 'Diabetes: Tips to lower blood sugar levels when they rise unexpectedly ',\n",
       " 'Red meat is not a health risk. New study slams years of shoddy research ',\n",
       " \"Can eating raw foods reverse diabetes? Here's what a nutritionist says \",\n",
       " 'How cold winter weather can trigger health issues ',\n",
       " 'Health News ',\n",
       " 'Risk Factors, Prevention, and Primary and Secondary Management of Sciatica: An Updated Overview ',\n",
       " 'Doctors Want You to Know This About Heart Disease — Eat This Not That ',\n",
       " '3 Morning Mistakes That Doctors Say Make Inflammation And Weight Gain So Much Worse ',\n",
       " '58 Percent of Americans Are Increasing Their Dementia Risk by Doing This: Are You? ',\n",
       " 'These Are The Best Snacks To Boost Heart Health This Fall, Experts Say ',\n",
       " 'Asylum seekers at Manston site to receive diphtheria jabs after cases rise ',\n",
       " 'Migrants at Manston centre in Kent to be vaccinated against diphtheria following spike in cases ',\n",
       " 'Here’s Why A Raw Vegan Diet May Be A Risk To Your Health ',\n",
       " 'Get Rid of Your Balloon Belly With These Free Weight Exercises ']"
      ]
     },
     "execution_count": 44,
     "metadata": {},
     "output_type": "execute_result"
    }
   ],
   "source": [
    "articles"
   ]
  }
 ],
 "metadata": {
  "kernelspec": {
   "display_name": "d2l:Python",
   "language": "python",
   "name": "conda-env-d2l-py"
  },
  "language_info": {
   "codemirror_mode": {
    "name": "ipython",
    "version": 3
   },
   "file_extension": ".py",
   "mimetype": "text/x-python",
   "name": "python",
   "nbconvert_exporter": "python",
   "pygments_lexer": "ipython3",
   "version": "3.9.10"
  },
  "widgets": {
   "application/vnd.jupyter.widget-state+json": {
    "state": {},
    "version_major": 2,
    "version_minor": 0
   }
  }
 },
 "nbformat": 4,
 "nbformat_minor": 5
}
